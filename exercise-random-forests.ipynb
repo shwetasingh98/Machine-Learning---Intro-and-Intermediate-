{
 "cells": [
  {
   "cell_type": "markdown",
   "id": "24a2b94c",
   "metadata": {
    "papermill": {
     "duration": 0.003792,
     "end_time": "2022-10-14T08:23:18.189384",
     "exception": false,
     "start_time": "2022-10-14T08:23:18.185592",
     "status": "completed"
    },
    "tags": []
   },
   "source": [
    "**This notebook is an exercise in the [Introduction to Machine Learning](https://www.kaggle.com/learn/intro-to-machine-learning) course.  You can reference the tutorial at [this link](https://www.kaggle.com/dansbecker/random-forests).**\n",
    "\n",
    "---\n"
   ]
  },
  {
   "cell_type": "markdown",
   "id": "14217d66",
   "metadata": {
    "papermill": {
     "duration": 0.002399,
     "end_time": "2022-10-14T08:23:18.194835",
     "exception": false,
     "start_time": "2022-10-14T08:23:18.192436",
     "status": "completed"
    },
    "tags": []
   },
   "source": [
    "## Recap\n",
    "Here's the code you've written so far."
   ]
  },
  {
   "cell_type": "code",
   "execution_count": 1,
   "id": "6247d835",
   "metadata": {
    "collapsed": true,
    "execution": {
     "iopub.execute_input": "2022-10-14T08:23:18.202465Z",
     "iopub.status.busy": "2022-10-14T08:23:18.201657Z",
     "iopub.status.idle": "2022-10-14T08:23:19.613835Z",
     "shell.execute_reply": "2022-10-14T08:23:19.612662Z"
    },
    "jupyter": {
     "outputs_hidden": true
    },
    "papermill": {
     "duration": 1.419915,
     "end_time": "2022-10-14T08:23:19.617383",
     "exception": false,
     "start_time": "2022-10-14T08:23:18.197468",
     "status": "completed"
    },
    "tags": []
   },
   "outputs": [
    {
     "name": "stdout",
     "output_type": "stream",
     "text": [
      "Validation MAE when not specifying max_leaf_nodes: 29,653\n",
      "Validation MAE for best value of max_leaf_nodes: 27,283\n",
      "\n",
      "Setup complete\n"
     ]
    }
   ],
   "source": [
    "# Code you have previously used to load data\n",
    "import pandas as pd\n",
    "from sklearn.metrics import mean_absolute_error\n",
    "from sklearn.model_selection import train_test_split\n",
    "from sklearn.tree import DecisionTreeRegressor\n",
    "\n",
    "\n",
    "# Path of the file to read\n",
    "iowa_file_path = '../input/home-data-for-ml-course/train.csv'\n",
    "\n",
    "home_data = pd.read_csv(iowa_file_path)\n",
    "# Create target object and call it y\n",
    "y = home_data.SalePrice\n",
    "# Create X\n",
    "features = ['LotArea', 'YearBuilt', '1stFlrSF', '2ndFlrSF', 'FullBath', 'BedroomAbvGr', 'TotRmsAbvGrd']\n",
    "X = home_data[features]\n",
    "\n",
    "# Split into validation and training data\n",
    "train_X, val_X, train_y, val_y = train_test_split(X, y, random_state=1)\n",
    "\n",
    "# Specify Model\n",
    "iowa_model = DecisionTreeRegressor(random_state=1)\n",
    "# Fit Model\n",
    "iowa_model.fit(train_X, train_y)\n",
    "\n",
    "# Make validation predictions and calculate mean absolute error\n",
    "val_predictions = iowa_model.predict(val_X)\n",
    "val_mae = mean_absolute_error(val_predictions, val_y)\n",
    "print(\"Validation MAE when not specifying max_leaf_nodes: {:,.0f}\".format(val_mae))\n",
    "\n",
    "# Using best value for max_leaf_nodes\n",
    "iowa_model = DecisionTreeRegressor(max_leaf_nodes=100, random_state=1)\n",
    "iowa_model.fit(train_X, train_y)\n",
    "val_predictions = iowa_model.predict(val_X)\n",
    "val_mae = mean_absolute_error(val_predictions, val_y)\n",
    "print(\"Validation MAE for best value of max_leaf_nodes: {:,.0f}\".format(val_mae))\n",
    "\n",
    "\n",
    "# Set up code checking\n",
    "from learntools.core import binder\n",
    "binder.bind(globals())\n",
    "from learntools.machine_learning.ex6 import *\n",
    "print(\"\\nSetup complete\")"
   ]
  },
  {
   "cell_type": "markdown",
   "id": "f100a998",
   "metadata": {
    "papermill": {
     "duration": 0.002561,
     "end_time": "2022-10-14T08:23:19.623164",
     "exception": false,
     "start_time": "2022-10-14T08:23:19.620603",
     "status": "completed"
    },
    "tags": []
   },
   "source": [
    "# Exercises\n",
    "Data science isn't always this easy. But replacing the decision tree with a Random Forest is going to be an easy win."
   ]
  },
  {
   "cell_type": "markdown",
   "id": "ba3cf32a",
   "metadata": {
    "papermill": {
     "duration": 0.00245,
     "end_time": "2022-10-14T08:23:19.628412",
     "exception": false,
     "start_time": "2022-10-14T08:23:19.625962",
     "status": "completed"
    },
    "tags": []
   },
   "source": [
    "## Step 1: Use a Random Forest"
   ]
  },
  {
   "cell_type": "code",
   "execution_count": 2,
   "id": "e712b4e3",
   "metadata": {
    "execution": {
     "iopub.execute_input": "2022-10-14T08:23:19.635635Z",
     "iopub.status.busy": "2022-10-14T08:23:19.635226Z",
     "iopub.status.idle": "2022-10-14T08:23:19.714686Z",
     "shell.execute_reply": "2022-10-14T08:23:19.713403Z"
    },
    "papermill": {
     "duration": 0.08737,
     "end_time": "2022-10-14T08:23:19.718621",
     "exception": false,
     "start_time": "2022-10-14T08:23:19.631251",
     "status": "completed"
    },
    "tags": []
   },
   "outputs": [
    {
     "name": "stdout",
     "output_type": "stream",
     "text": [
      "Validation MAE for Random Forest Model: <learntools.core.constants.PlaceholderValue object at 0x7fe68a125290>\n"
     ]
    },
    {
     "data": {
      "application/javascript": [
       "parent.postMessage({\"jupyterEvent\": \"custom.exercise_interaction\", \"data\": {\"outcomeType\": 4, \"interactionType\": 1, \"questionType\": 2, \"questionId\": \"1_CheckRfScore\", \"learnToolsVersion\": \"0.3.4\", \"valueTowardsCompletion\": 0.0, \"failureMessage\": \"\", \"exceptionClass\": \"\", \"trace\": \"\"}}, \"*\")"
      ],
      "text/plain": [
       "<IPython.core.display.Javascript object>"
      ]
     },
     "metadata": {},
     "output_type": "display_data"
    },
    {
     "data": {
      "text/markdown": [
       "<span style=\"color:#ccaa33\">Check:</span> When you've updated the starter code, `check()` will tell you whether your code is correct. You need to update the code that creates variable `rf_val_mae`"
      ],
      "text/plain": [
       "Check: When you've updated the starter code, `check()` will tell you whether your code is correct. You need to update the code that creates variable `rf_val_mae`"
      ]
     },
     "metadata": {},
     "output_type": "display_data"
    }
   ],
   "source": [
    "from sklearn.ensemble import RandomForestRegressor\n",
    "\n",
    "# Define the model. Set random_state to 1\n",
    "rf_model = ____\n",
    "\n",
    "# fit your model\n",
    "____\n",
    "\n",
    "# Calculate the mean absolute error of your Random Forest model on the validation data\n",
    "rf_val_mae = ____\n",
    "\n",
    "print(\"Validation MAE for Random Forest Model: {}\".format(rf_val_mae))\n",
    "\n",
    "# Check your answer\n",
    "step_1.check()"
   ]
  },
  {
   "cell_type": "code",
   "execution_count": 3,
   "id": "bba25c97",
   "metadata": {
    "execution": {
     "iopub.execute_input": "2022-10-14T08:23:19.729792Z",
     "iopub.status.busy": "2022-10-14T08:23:19.728744Z",
     "iopub.status.idle": "2022-10-14T08:23:19.733420Z",
     "shell.execute_reply": "2022-10-14T08:23:19.732550Z"
    },
    "papermill": {
     "duration": 0.01289,
     "end_time": "2022-10-14T08:23:19.736034",
     "exception": false,
     "start_time": "2022-10-14T08:23:19.723144",
     "status": "completed"
    },
    "tags": []
   },
   "outputs": [],
   "source": [
    "# The lines below will show you a hint or the solution.\n",
    "# step_1.hint() \n",
    "# step_1.solution()\n"
   ]
  },
  {
   "cell_type": "markdown",
   "id": "89d5f324",
   "metadata": {
    "papermill": {
     "duration": 0.004234,
     "end_time": "2022-10-14T08:23:19.744778",
     "exception": false,
     "start_time": "2022-10-14T08:23:19.740544",
     "status": "completed"
    },
    "tags": []
   },
   "source": [
    "So far, you have followed specific instructions at each step of your project. This helped learn key ideas and build your first model, but now you know enough to try things on your own. \n",
    "\n",
    "Machine Learning competitions are a great way to try your own ideas and learn more as you independently navigate a machine learning project. \n",
    "\n",
    "# Keep Going\n",
    "\n",
    "You are ready for **[Machine Learning Competitions](https://www.kaggle.com/alexisbcook/machine-learning-competitions).**\n"
   ]
  },
  {
   "cell_type": "markdown",
   "id": "ab4f6ab2",
   "metadata": {
    "papermill": {
     "duration": 0.003991,
     "end_time": "2022-10-14T08:23:19.753178",
     "exception": false,
     "start_time": "2022-10-14T08:23:19.749187",
     "status": "completed"
    },
    "tags": []
   },
   "source": [
    "---\n",
    "\n",
    "\n",
    "\n",
    "\n",
    "*Have questions or comments? Visit the [course discussion forum](https://www.kaggle.com/learn/intro-to-machine-learning/discussion) to chat with other learners.*"
   ]
  }
 ],
 "metadata": {
  "kernelspec": {
   "display_name": "Python 3",
   "language": "python",
   "name": "python3"
  },
  "language_info": {
   "codemirror_mode": {
    "name": "ipython",
    "version": 3
   },
   "file_extension": ".py",
   "mimetype": "text/x-python",
   "name": "python",
   "nbconvert_exporter": "python",
   "pygments_lexer": "ipython3",
   "version": "3.7.12"
  },
  "papermill": {
   "default_parameters": {},
   "duration": 11.584065,
   "end_time": "2022-10-14T08:23:20.481663",
   "environment_variables": {},
   "exception": null,
   "input_path": "__notebook__.ipynb",
   "output_path": "__notebook__.ipynb",
   "parameters": {},
   "start_time": "2022-10-14T08:23:08.897598",
   "version": "2.3.4"
  }
 },
 "nbformat": 4,
 "nbformat_minor": 5
}
